{
  "nbformat": 4,
  "nbformat_minor": 0,
  "metadata": {
    "colab": {
      "provenance": [],
      "include_colab_link": true
    },
    "kernelspec": {
      "name": "python3",
      "display_name": "Python 3"
    },
    "language_info": {
      "name": "python"
    }
  },
  "cells": [
    {
      "cell_type": "markdown",
      "metadata": {
        "id": "view-in-github",
        "colab_type": "text"
      },
      "source": [
        "<a href=\"https://colab.research.google.com/github/Tanwanth/data/blob/main/data_structure_experiment20.ipynb\" target=\"_parent\"><img src=\"https://colab.research.google.com/assets/colab-badge.svg\" alt=\"Open In Colab\"/></a>"
      ]
    },
    {
      "cell_type": "markdown",
      "source": [
        "1.Perform Linear Search on an array"
      ],
      "metadata": {
        "id": "V6vckvyxBhOw"
      }
    },
    {
      "cell_type": "code",
      "source": [
        "# Linear Search in Python\n",
        "\n",
        "\n",
        "def linearSearch(array, n, x):\n",
        "\n",
        "    # Going through array sequencially\n",
        "    for i in range(0, n):\n",
        "        if (array[i] == x):\n",
        "            return i\n",
        "    return -1\n",
        "\n",
        "\n",
        "array = [1, 9, 8, 3, 1]\n",
        "x = 1\n",
        "n = len(array)\n",
        "result = linearSearch(array, n, x)\n",
        "if(result == -1):\n",
        "    print(\"Element not found\")\n",
        "else:\n",
        "    print(\"Element found at index: \", result)"
      ],
      "metadata": {
        "colab": {
          "base_uri": "https://localhost:8080/"
        },
        "id": "KnWg57rKB2HA",
        "outputId": "ceae6668-390a-468d-fc40-4ceb614700dc"
      },
      "execution_count": null,
      "outputs": [
        {
          "output_type": "stream",
          "name": "stdout",
          "text": [
            "Element found at index:  0\n"
          ]
        }
      ]
    },
    {
      "cell_type": "markdown",
      "source": [
        "Perform Binary search on an list stored in an array"
      ],
      "metadata": {
        "id": "arOSkHxGB9Ez"
      }
    },
    {
      "cell_type": "code",
      "source": [
        "# Binary Search in python\n",
        "\n",
        "\n",
        "def binarySearch(array, x, low, high):\n",
        "\n",
        "    # Repeat until the pointers low and high meet each other\n",
        "    while low <= high:\n",
        "\n",
        "        mid = low + (high - low)//2\n",
        "\n",
        "        if array[mid] == x:\n",
        "            return mid\n",
        "\n",
        "        elif array[mid] < x:\n",
        "            low = mid + 1\n",
        "\n",
        "        else:\n",
        "            high = mid - 1\n",
        "\n",
        "    return -1\n",
        "\n",
        "\n",
        "array = [3, 4, 5, 6, 7, 8, 9]\n",
        "x = 4\n",
        "\n",
        "result = binarySearch(array, x, 0, len(array)-1)\n",
        "\n",
        "if result != -1:\n",
        "    print(\"Element is present at index \" + str(result))\n",
        "else:\n",
        "    print(\"Not found\")"
      ],
      "metadata": {
        "colab": {
          "base_uri": "https://localhost:8080/"
        },
        "id": "d4OGAjRPCF17",
        "outputId": "837b1e2a-a006-44ec-dac1-3ddedf85086d"
      },
      "execution_count": null,
      "outputs": [
        {
          "output_type": "stream",
          "name": "stdout",
          "text": [
            "Element is present at index 1\n"
          ]
        }
      ]
    },
    {
      "cell_type": "markdown",
      "source": [
        "3.Develop a program to implement bubble sort technique."
      ],
      "metadata": {
        "id": "7gkFFDzfCNqb"
      }
    },
    {
      "cell_type": "code",
      "source": [
        "# Bubble sort in Python\n",
        "\n",
        "def bubbleSort(array):\n",
        "    \n",
        "  # loop to access each array element\n",
        "  for i in range(len(array)):\n",
        "\n",
        "    # loop to compare array elements\n",
        "    for j in range(0, len(array) - i - 1):\n",
        "\n",
        "      # compare two adjacent elements\n",
        "      # change > to < to sort in descending order\n",
        "      if array[j] > array[j + 1]:\n",
        "\n",
        "        # swapping elements if elements\n",
        "        # are not in the intended order\n",
        "        temp = array[j]\n",
        "        array[j] = array[j+1]\n",
        "        array[j+1] = temp\n",
        "\n",
        "\n",
        "data = [-2, 45, 0, 11, -9]\n",
        "\n",
        "bubbleSort(data)\n",
        "\n",
        "print('Sorted Array in Ascending Order:')\n",
        "print(data)"
      ],
      "metadata": {
        "colab": {
          "base_uri": "https://localhost:8080/"
        },
        "id": "H3TA1558CeJX",
        "outputId": "c92831be-c36f-4af0-cd59-db8b707e4776"
      },
      "execution_count": null,
      "outputs": [
        {
          "output_type": "stream",
          "name": "stdout",
          "text": [
            "Sorted Array in Ascending Order:\n",
            "[-9, -2, 0, 11, 45]\n"
          ]
        }
      ]
    },
    {
      "cell_type": "markdown",
      "source": [
        "4. Develop a program to implement selection sort technique."
      ],
      "metadata": {
        "id": "v-f_JiYwCgta"
      }
    },
    {
      "cell_type": "code",
      "source": [
        "# Selection sort in Python\n",
        "\n",
        "\n",
        "def selectionSort(array, size):\n",
        "   \n",
        "    for step in range(size):\n",
        "        min_idx = step\n",
        "\n",
        "        for i in range(step + 1, size):\n",
        "         \n",
        "            # to sort in descending order, change > to < in this line\n",
        "            # select the minimum element in each loop\n",
        "            if array[i] < array[min_idx]:\n",
        "                min_idx = i\n",
        "         \n",
        "        # put min at the correct position\n",
        "        (array[step], array[min_idx]) = (array[min_idx], array[step])\n",
        "\n",
        "\n",
        "data = [-2, 45, 0, 11, -9]\n",
        "size = len(data)\n",
        "selectionSort(data, size)\n",
        "print('Sorted Array in Ascending Order:')\n",
        "print(data)"
      ],
      "metadata": {
        "colab": {
          "base_uri": "https://localhost:8080/"
        },
        "id": "3ha5en-jCoT5",
        "outputId": "9c678ae3-14bc-4917-d231-ced8a30f18f6"
      },
      "execution_count": null,
      "outputs": [
        {
          "output_type": "stream",
          "name": "stdout",
          "text": [
            "Sorted Array in Ascending Order:\n",
            "[-9, -2, 0, 11, 45]\n"
          ]
        }
      ]
    },
    {
      "cell_type": "markdown",
      "source": [
        "5.. Develop a program to implement insertion sort technique."
      ],
      "metadata": {
        "id": "YPwYjzlqCpRy"
      }
    },
    {
      "cell_type": "code",
      "source": [
        "# Insertion sort in Python\n",
        "\n",
        "\n",
        "def insertionSort(array):\n",
        "\n",
        "    for step in range(1, len(array)):\n",
        "        key = array[step]\n",
        "        j = step - 1\n",
        "        \n",
        "        # Compare key with each element on the left of it until an element smaller than it is found\n",
        "        # For descending order, change key<array[j] to key>array[j].        \n",
        "        while j >= 0 and key < array[j]:\n",
        "            array[j + 1] = array[j]\n",
        "            j = j - 1\n",
        "        \n",
        "        # Place key at after the element just smaller than it.\n",
        "        array[j + 1] = key\n",
        "\n",
        "\n",
        "data = [9, 5, 1, 4, 3]\n",
        "insertionSort(data)\n",
        "print('Sorted Array in Ascending Order:')\n",
        "print(data)"
      ],
      "metadata": {
        "colab": {
          "base_uri": "https://localhost:8080/"
        },
        "id": "YLm4sMypCrwE",
        "outputId": "08252391-bd7f-4817-9418-183ef7830174"
      },
      "execution_count": null,
      "outputs": [
        {
          "output_type": "stream",
          "name": "stdout",
          "text": [
            "Sorted Array in Ascending Order:\n",
            "[1, 3, 4, 5, 9]\n"
          ]
        }
      ]
    },
    {
      "cell_type": "markdown",
      "source": [
        "6.. Develop a program to implement quick sort technique."
      ],
      "metadata": {
        "id": "XG5zPxOpCwhQ"
      }
    },
    {
      "cell_type": "code",
      "source": [
        "# Quick sort in Python\n",
        "\n",
        "# function to find the partition position\n",
        "def partition(array, low, high):\n",
        "\n",
        "  # choose the rightmost element as pivot\n",
        "  pivot = array[high]\n",
        "\n",
        "  # pointer for greater element\n",
        "  i = low - 1\n",
        "\n",
        "  # traverse through all elements\n",
        "  # compare each element with pivot\n",
        "  for j in range(low, high):\n",
        "    if array[j] <= pivot:\n",
        "      # if element smaller than pivot is found\n",
        "      # swap it with the greater element pointed by i\n",
        "      i = i + 1\n",
        "\n",
        "      # swapping element at i with element at j\n",
        "      (array[i], array[j]) = (array[j], array[i])\n",
        "\n",
        "  # swap the pivot element with the greater element specified by i\n",
        "  (array[i + 1], array[high]) = (array[high], array[i + 1])\n",
        "\n",
        "  # return the position from where partition is done\n",
        "  return i + 1\n",
        "\n",
        "# function to perform quicksort\n",
        "def quickSort(array, low, high):\n",
        "  if low < high:\n",
        "\n",
        "    # find pivot element such that\n",
        "    # element smaller than pivot are on the left\n",
        "    # element greater than pivot are on the right\n",
        "    pi = partition(array, low, high)\n",
        "\n",
        "    # recursive call on the left of pivot\n",
        "    quickSort(array, low, pi - 1)\n",
        "\n",
        "    # recursive call on the right of pivot\n",
        "    quickSort(array, pi + 1, high)\n",
        "\n",
        "\n",
        "data = [8, 7, 2, 1, 0, 9, 6]\n",
        "print(\"Unsorted Array\")\n",
        "print(data)\n",
        "\n",
        "size = len(data)\n",
        "\n",
        "quickSort(data, 0, size - 1)\n",
        "\n",
        "print('Sorted Array in Ascending Order:')\n",
        "print(data)"
      ],
      "metadata": {
        "colab": {
          "base_uri": "https://localhost:8080/"
        },
        "id": "bCb9OpLwCzje",
        "outputId": "ac92fc0f-db92-4bca-c6ca-695c60fb0d14"
      },
      "execution_count": null,
      "outputs": [
        {
          "output_type": "stream",
          "name": "stdout",
          "text": [
            "Unsorted Array\n",
            "[8, 7, 2, 1, 0, 9, 6]\n",
            "Sorted Array in Ascending Order:\n",
            "[0, 1, 2, 6, 7, 8, 9]\n"
          ]
        }
      ]
    },
    {
      "cell_type": "markdown",
      "source": [
        " 7.Develop a program to implement merge sort technique."
      ],
      "metadata": {
        "id": "zKnqsbVhC5F-"
      }
    },
    {
      "cell_type": "code",
      "source": [
        "# MergeSort in Python\n",
        "\n",
        "\n",
        "def mergeSort(array):\n",
        "    if len(array) > 1:\n",
        "\n",
        "        #  r is the point where the array is divided into two subarrays\n",
        "        r = len(array)//2\n",
        "        L = array[:r]\n",
        "        M = array[r:]\n",
        "\n",
        "        # Sort the two halves\n",
        "        mergeSort(L)\n",
        "        mergeSort(M)\n",
        "\n",
        "        i = j = k = 0\n",
        "\n",
        "        # Until we reach either end of either L or M, pick larger among\n",
        "        # elements L and M and place them in the correct position at A[p..r]\n",
        "        while i < len(L) and j < len(M):\n",
        "            if L[i] < M[j]:\n",
        "                array[k] = L[i]\n",
        "                i += 1\n",
        "            else:\n",
        "                array[k] = M[j]\n",
        "                j += 1\n",
        "            k += 1\n",
        "\n",
        "        # When we run out of elements in either L or M,\n",
        "        # pick up the remaining elements and put in A[p..r]\n",
        "        while i < len(L):\n",
        "            array[k] = L[i]\n",
        "            i += 1\n",
        "            k += 1\n",
        "\n",
        "        while j < len(M):\n",
        "            array[k] = M[j]\n",
        "            j += 1\n",
        "            k += 1\n",
        "\n",
        "\n",
        "# Print the array\n",
        "def printList(array):\n",
        "    for i in range(len(array)):\n",
        "        print(array[i], end=\" \")\n",
        "    print()\n",
        "\n",
        "\n",
        "# Driver program\n",
        "if __name__ == '__main__':\n",
        "    array = [6, 5, 12, 10, 9, 1]\n",
        "\n",
        "    mergeSort(array)\n",
        "\n",
        "    print(\"Sorted array is: \")\n",
        "    printList(array)"
      ],
      "metadata": {
        "colab": {
          "base_uri": "https://localhost:8080/"
        },
        "id": "qBEsrpKIDGKY",
        "outputId": "dd38d669-4f78-464c-857a-611309ee81fb"
      },
      "execution_count": null,
      "outputs": [
        {
          "output_type": "stream",
          "name": "stdout",
          "text": [
            "Sorted array is: \n",
            "1 5 6 9 10 12 \n"
          ]
        }
      ]
    },
    {
      "cell_type": "markdown",
      "source": [
        "20.Develop a program to implement heap sort technique"
      ],
      "metadata": {
        "id": "Y08gI4sHDK8G"
      }
    },
    {
      "cell_type": "code",
      "source": [
        "# Python program for implementation of heap Sort\n",
        "\n",
        "# To heapify subtree rooted at index i.\n",
        "# n is size of heap\n",
        "\n",
        "\n",
        "def heapify(arr, N, i):\n",
        "\tlargest = i # Initialize largest as root\n",
        "\tl = 2 * i + 1\t # left = 2*i + 1\n",
        "\tr = 2 * i + 2\t # right = 2*i + 2\n",
        "\n",
        "\t# See if left child of root exists and is\n",
        "\t# greater than root\n",
        "\tif l < N and arr[largest] < arr[l]:\n",
        "\t\tlargest = l\n",
        "\n",
        "\t# See if right child of root exists and is\n",
        "\t# greater than root\n",
        "\tif r < N and arr[largest] < arr[r]:\n",
        "\t\tlargest = r\n",
        "\n",
        "\t# Change root, if needed\n",
        "\tif largest != i:\n",
        "\t\tarr[i], arr[largest] = arr[largest], arr[i] # swap\n",
        "\n",
        "\t\t# Heapify the root.\n",
        "\t\theapify(arr, N, largest)\n",
        "\n",
        "# The main function to sort an array of given size\n",
        "\n",
        "\n",
        "def heapSort(arr):\n",
        "\tN = len(arr)\n",
        "\n",
        "\t# Build a maxheap.\n",
        "\tfor i in range(N//2 - 1, -1, -1):\n",
        "\t\theapify(arr, N, i)\n",
        "\n",
        "\t# One by one extract elements\n",
        "\tfor i in range(N-1, 0, -1):\n",
        "\t\tarr[i], arr[0] = arr[0], arr[i] # swap\n",
        "\t\theapify(arr, i, 0)\n",
        "\n",
        "\n",
        "# Driver's code\n",
        "if __name__ == '__main__':\n",
        "\tarr = [12, 11, 13, 5, 6, 7]\n",
        "\n",
        "\t# Function call\n",
        "\theapSort(arr)\n",
        "\tN = len(arr)\n",
        "\n",
        "\tprint(\"Sorted array is\")\n",
        "\tfor i in range(N):\n",
        "\t\tprint(\"%d\" % arr[i], end=\" \")\n",
        "# This code is contributed by Mohit Kumra\n"
      ],
      "metadata": {
        "colab": {
          "base_uri": "https://localhost:8080/"
        },
        "id": "ZHyeNOJeDYbG",
        "outputId": "c83f7ed5-613a-4041-eabc-18cebb2d7616"
      },
      "execution_count": null,
      "outputs": [
        {
          "output_type": "stream",
          "name": "stdout",
          "text": [
            "Sorted array is\n",
            "5 6 7 11 12 13 "
          ]
        }
      ]
    },
    {
      "cell_type": "markdown",
      "source": [
        "19.Implement Dijkstra’s Shortest Path Algorithm"
      ],
      "metadata": {
        "id": "_OUs38o-D_49"
      }
    },
    {
      "cell_type": "code",
      "source": [
        "# Dijkstra's Algorithm in Python\n",
        "\n",
        "\n",
        "import sys\n",
        "\n",
        "# Providing the graph\n",
        "vertices = [[0, 0, 1, 1, 0, 0, 0],\n",
        "            [0, 0, 1, 0, 0, 1, 0],\n",
        "            [1, 1, 0, 1, 1, 0, 0],\n",
        "            [1, 0, 1, 0, 0, 0, 1],\n",
        "            [0, 0, 1, 0, 0, 1, 0],\n",
        "            [0, 1, 0, 0, 1, 0, 1],\n",
        "            [0, 0, 0, 1, 0, 1, 0]]\n",
        "\n",
        "edges = [[0, 0, 1, 2, 0, 0, 0],\n",
        "         [0, 0, 2, 0, 0, 3, 0],\n",
        "         [1, 2, 0, 1, 3, 0, 0],\n",
        "         [2, 0, 1, 0, 0, 0, 1],\n",
        "         [0, 0, 3, 0, 0, 2, 0],\n",
        "         [0, 3, 0, 0, 2, 0, 1],\n",
        "         [0, 0, 0, 1, 0, 1, 0]]\n",
        "\n",
        "# Find which vertex is to be visited next\n",
        "def to_be_visited():\n",
        "    global visited_and_distance\n",
        "    v = -10\n",
        "    for index in range(num_of_vertices):\n",
        "        if visited_and_distance[index][0] == 0 \\\n",
        "            and (v < 0 or visited_and_distance[index][1] <=\n",
        "                 visited_and_distance[v][1]):\n",
        "            v = index\n",
        "    return v\n",
        "\n",
        "\n",
        "num_of_vertices = len(vertices[0])\n",
        "\n",
        "visited_and_distance = [[0, 0]]\n",
        "for i in range(num_of_vertices-1):\n",
        "    visited_and_distance.append([0, sys.maxsize])\n",
        "\n",
        "for vertex in range(num_of_vertices):\n",
        "\n",
        "    # Find next vertex to be visited\n",
        "    to_visit = to_be_visited()\n",
        "    for neighbor_index in range(num_of_vertices):\n",
        "\n",
        "        # Updating new distances\n",
        "        if vertices[to_visit][neighbor_index] == 1 and \\\n",
        "                visited_and_distance[neighbor_index][0] == 0:\n",
        "            new_distance = visited_and_distance[to_visit][1] \\\n",
        "                + edges[to_visit][neighbor_index]\n",
        "            if visited_and_distance[neighbor_index][1] > new_distance:\n",
        "                visited_and_distance[neighbor_index][1] = new_distance\n",
        "        \n",
        "        visited_and_distance[to_visit][0] = 1\n",
        "\n",
        "i = 0\n",
        "\n",
        "# Printing the distance\n",
        "for distance in visited_and_distance:\n",
        "    print(\"Distance of \", chr(ord('a') + i),\n",
        "          \" from source vertex: \", distance[1])\n",
        "    i = i + 1"
      ],
      "metadata": {
        "colab": {
          "base_uri": "https://localhost:8080/"
        },
        "id": "9Beob-1AEG3J",
        "outputId": "c5ed72bd-677b-48b4-c150-bab63d76a9de"
      },
      "execution_count": null,
      "outputs": [
        {
          "output_type": "stream",
          "name": "stdout",
          "text": [
            "Distance of  a  from source vertex:  0\n",
            "Distance of  b  from source vertex:  3\n",
            "Distance of  c  from source vertex:  1\n",
            "Distance of  d  from source vertex:  2\n",
            "Distance of  e  from source vertex:  4\n",
            "Distance of  f  from source vertex:  4\n",
            "Distance of  g  from source vertex:  3\n"
          ]
        }
      ]
    },
    {
      "cell_type": "markdown",
      "source": [
        "18.Implement Depth First Search, Breadth First Search traversals on a graph.Breadth first search"
      ],
      "metadata": {
        "id": "hkGbIaM0EMd2"
      }
    },
    {
      "cell_type": "code",
      "source": [
        "# Python3 Program to print BFS traversal\n",
        "# from a given source vertex. BFS(int s)\n",
        "# traverses vertices reachable from s.\n",
        "from collections import defaultdict\n",
        "\n",
        "# This class represents a directed graph\n",
        "# using adjacency list representation\n",
        "class Graph:\n",
        "\n",
        "\t# Constructor\n",
        "\tdef __init__(self):\n",
        "\n",
        "\t\t# default dictionary to store graph\n",
        "\t\tself.graph = defaultdict(list)\n",
        "\n",
        "\t# function to add an edge to graph\n",
        "\tdef addEdge(self,u,v):\n",
        "\t\tself.graph[u].append(v)\n",
        "\n",
        "\t# Function to print a BFS of graph\n",
        "\tdef BFS(self, s):\n",
        "\n",
        "\t\t# Mark all the vertices as not visited\n",
        "\t\tvisited = [False] * (max(self.graph) + 1)\n",
        "\n",
        "\t\t# Create a queue for BFS\n",
        "\t\tqueue = []\n",
        "\n",
        "\t\t# Mark the source node as\n",
        "\t\t# visited and enqueue it\n",
        "\t\tqueue.append(s)\n",
        "\t\tvisited[s] = True\n",
        "\n",
        "\t\twhile queue:\n",
        "\n",
        "\t\t\t# Dequeue a vertex from\n",
        "\t\t\t# queue and print it\n",
        "\t\t\ts = queue.pop(0)\n",
        "\t\t\tprint (s, end = \" \")\n",
        "\n",
        "\t\t\t# Get all adjacent vertices of the\n",
        "\t\t\t# dequeued vertex s. If a adjacent\n",
        "\t\t\t# has not been visited, then mark it\n",
        "\t\t\t# visited and enqueue it\n",
        "\t\t\tfor i in self.graph[s]:\n",
        "\t\t\t\tif visited[i] == False:\n",
        "\t\t\t\t\tqueue.append(i)\n",
        "\t\t\t\t\tvisited[i] = True\n",
        "\n",
        "# Driver code\n",
        "\n",
        "# Create a graph given in\n",
        "# the above diagram\n",
        "g = Graph()\n",
        "g.addEdge(0, 1)\n",
        "g.addEdge(0, 2)\n",
        "g.addEdge(1, 2)\n",
        "g.addEdge(2, 0)\n",
        "g.addEdge(2, 3)\n",
        "g.addEdge(3, 3)\n",
        "\n",
        "print (\"Following is Breadth First Traversal\"\n",
        "\t\t\t\t\" (starting from vertex 2)\")\n",
        "g.BFS(2)\n",
        "\n",
        "# This code is contributed by Neelam Yadav\n"
      ],
      "metadata": {
        "colab": {
          "base_uri": "https://localhost:8080/"
        },
        "id": "62lgC6_QEskH",
        "outputId": "5a486045-eaf4-49c4-ac0f-0f19585fcf4f"
      },
      "execution_count": null,
      "outputs": [
        {
          "output_type": "stream",
          "name": "stdout",
          "text": [
            "Following is Breadth First Traversal (starting from vertex 2)\n",
            "2 0 3 1 "
          ]
        }
      ]
    },
    {
      "cell_type": "markdown",
      "source": [
        "depth breadth search"
      ],
      "metadata": {
        "id": "NAg8b-IWEujd"
      }
    },
    {
      "cell_type": "code",
      "source": [
        "# DFS algorithm in Python\n",
        "\n",
        "\n",
        "# DFS algorithm\n",
        "def dfs(graph, start, visited=None):\n",
        "    if visited is None:\n",
        "        visited = set()\n",
        "    visited.add(start)\n",
        "\n",
        "    print(start)\n",
        "\n",
        "    for next in graph[start] - visited:\n",
        "        dfs(graph, next, visited)\n",
        "    return visited\n",
        "\n",
        "\n",
        "graph = {'0': set(['1', '2']),\n",
        "         '1': set(['0', '3', '4']),\n",
        "         '2': set(['0']),\n",
        "         '3': set(['1']),\n",
        "         '4': set(['2', '3'])}\n",
        "\n",
        "dfs(graph, '0')"
      ],
      "metadata": {
        "colab": {
          "base_uri": "https://localhost:8080/"
        },
        "id": "Y-1otqDhEygp",
        "outputId": "92aaeb08-00dc-444c-ac26-b04d7b871c7a"
      },
      "execution_count": null,
      "outputs": [
        {
          "output_type": "stream",
          "name": "stdout",
          "text": [
            "0\n",
            "1\n",
            "3\n",
            "4\n",
            "2\n",
            "2\n"
          ]
        },
        {
          "output_type": "execute_result",
          "data": {
            "text/plain": [
              "{'0', '1', '2', '3', '4'}"
            ]
          },
          "metadata": {},
          "execution_count": 13
        }
      ]
    },
    {
      "cell_type": "markdown",
      "source": [
        "17. Construct a binary search tree and perform a search operation"
      ],
      "metadata": {
        "id": "Eoo8KoGYE8Mw"
      }
    },
    {
      "cell_type": "code",
      "source": [
        "class GFG :\n",
        "\tdef main( args) :\n",
        "\t\ttree = BST()\n",
        "\t\ttree.insert(30)\n",
        "\t\ttree.insert(50)\n",
        "\t\ttree.insert(15)\n",
        "\t\ttree.insert(20)\n",
        "\t\ttree.insert(10)\n",
        "\t\ttree.insert(40)\n",
        "\t\ttree.insert(60)\n",
        "\t\ttree.inorder()\n",
        "class Node :\n",
        "\tleft = None\n",
        "\tval = 0\n",
        "\tright = None\n",
        "\tdef __init__(self, val) :\n",
        "\t\tself.val = val\n",
        "class BST :\n",
        "\troot = None\n",
        "\tdef insert(self, key) :\n",
        "\t\tnode = Node(key)\n",
        "\t\tif (self.root == None) :\n",
        "\t\t\tself.root = node\n",
        "\t\t\treturn\n",
        "\t\tprev = None\n",
        "\t\ttemp = self.root\n",
        "\t\twhile (temp != None) :\n",
        "\t\t\tif (temp.val > key) :\n",
        "\t\t\t\tprev = temp\n",
        "\t\t\t\ttemp = temp.left\n",
        "\t\t\telif(temp.val < key) :\n",
        "\t\t\t\tprev = temp\n",
        "\t\t\t\ttemp = temp.right\n",
        "\t\tif (prev.val > key) :\n",
        "\t\t\tprev.left = node\n",
        "\t\telse :\n",
        "\t\t\tprev.right = node\n",
        "\tdef inorder(self) :\n",
        "\t\ttemp = self.root\n",
        "\t\tstack = []\n",
        "\t\twhile (temp != None or not (len(stack) == 0)) :\n",
        "\t\t\tif (temp != None) :\n",
        "\t\t\t\tstack.append(temp)\n",
        "\t\t\t\ttemp = temp.left\n",
        "\t\t\telse :\n",
        "\t\t\t\ttemp = stack.pop()\n",
        "\t\t\t\tprint(str(temp.val) + \" \", end =\"\")\n",
        "\t\t\t\ttemp = temp.right\n",
        "\t\n",
        "if __name__==\"__main__\":\n",
        "\tGFG.main([])"
      ],
      "metadata": {
        "colab": {
          "base_uri": "https://localhost:8080/"
        },
        "id": "sX9DlDtVE9-5",
        "outputId": "4aec4ede-7fdd-452b-fd76-ddb1a7498aeb"
      },
      "execution_count": null,
      "outputs": [
        {
          "output_type": "stream",
          "name": "stdout",
          "text": [
            "10 15 20 30 40 50 60 "
          ]
        }
      ]
    },
    {
      "cell_type": "markdown",
      "source": [
        "16.Construct a binary tree and perform various traversals"
      ],
      "metadata": {
        "id": "EpTodnyTGMeD"
      }
    },
    {
      "cell_type": "code",
      "source": [
        "class Node:\n",
        "    def __init__(self, item):\n",
        "        self.left = None\n",
        "        self.right = None\n",
        "        self.val = item\n",
        "def inorder(root):\n",
        "\n",
        "    if root:\n",
        "        # Traverse left\n",
        "        inorder(root.left)\n",
        "        # Traverse root\n",
        "        print(str(root.val) + \"->\", end='')\n",
        "        # Traverse right\n",
        "        inorder(root.right)\n",
        "def postorder(root):\n",
        "\n",
        "    if root:\n",
        "        # Traverse left\n",
        "        postorder(root.left)\n",
        "        # Traverse right\n",
        "        postorder(root.right)\n",
        "        # Traverse root\n",
        "        print(str(root.val) + \"->\", end='')\n",
        "def preorder(root):\n",
        "\n",
        "    if root:\n",
        "        print(str(root.val) + \"->\", end='')\n",
        "        preorder(root.left)\n",
        "        preorder(root.right)\n",
        "root = Node(1)\n",
        "root.left = Node(2)\n",
        "root.right = Node(3)\n",
        "root.left.left = Node(4)\n",
        "root.left.right = Node(5)\n",
        "print(\"Inorder traversal \")\n",
        "inorder(root)\n",
        "print(\"\\nPreorder traversal \")\n",
        "preorder(root)\n",
        "print(\"\\nPostorder traversal \")\n",
        "postorder(root)"
      ],
      "metadata": {
        "colab": {
          "base_uri": "https://localhost:8080/"
        },
        "id": "ZnVgA3oLGNjF",
        "outputId": "b543d537-7630-47fe-9b33-8ca14e619d92"
      },
      "execution_count": null,
      "outputs": [
        {
          "output_type": "stream",
          "name": "stdout",
          "text": [
            "Inorder traversal \n",
            "4->2->5->1->3->\n",
            "Preorder traversal \n",
            "1->2->4->5->3->\n",
            "Postorder traversal \n",
            "4->5->2->3->1->"
          ]
        }
      ]
    },
    {
      "cell_type": "markdown",
      "source": [
        "15.Create a queue and perform various operations on it"
      ],
      "metadata": {
        "id": "o2wZzqoJGVIx"
      }
    },
    {
      "cell_type": "code",
      "source": [
        "# Python program to\n",
        "# demonstrate queue implementation\n",
        "# using list\n",
        "\n",
        "# Initializing a queue\n",
        "queue = []\n",
        "\n",
        "# Adding elements to the queue\n",
        "queue.append('a')\n",
        "queue.append('b')\n",
        "queue.append('c')\n",
        "\n",
        "print(\"Initial queue\")\n",
        "print(queue)\n",
        "\n",
        "# Removing elements from the queue\n",
        "print(\"\\nElements dequeued from queue\")\n",
        "print(queue.pop(0))\n",
        "print(queue.pop(0))\n",
        "print(queue.pop(0))\n",
        "\n",
        "print(\"\\nQueue after removing elements\")\n",
        "print(queue)\n",
        "\n",
        "# Uncommenting print(queue.pop(0))\n",
        "# will raise and IndexError\n",
        "# as the queue is now empty\n"
      ],
      "metadata": {
        "colab": {
          "base_uri": "https://localhost:8080/"
        },
        "id": "5oRtAlFIGeUa",
        "outputId": "022f4d73-6ab3-425e-a4df-c097bf573f10"
      },
      "execution_count": null,
      "outputs": [
        {
          "output_type": "stream",
          "name": "stdout",
          "text": [
            "Initial queue\n",
            "['a', 'b', 'c']\n",
            "\n",
            "Elements dequeued from queue\n",
            "a\n",
            "b\n",
            "c\n",
            "\n",
            "Queue after removing elements\n",
            "[]\n"
          ]
        }
      ]
    },
    {
      "cell_type": "markdown",
      "source": [
        "16. Construct a binary tree and perform various traversals."
      ],
      "metadata": {
        "id": "OMTuNOzuG62B"
      }
    },
    {
      "cell_type": "code",
      "source": [
        "# Python program to evaluate value of a postfix expression\n",
        "\n",
        "# Class to convert the expression\n",
        "class Evaluate:\n",
        "\t\n",
        "\t# Constructor to initialize the class variables\n",
        "\tdef __init__(self, capacity):\n",
        "\t\tself.top = -1\n",
        "\t\tself.capacity = capacity\n",
        "\t\t# This array is used a stack\n",
        "\t\tself.array = []\n",
        "\t\n",
        "\t# check if the stack is empty\n",
        "\tdef isEmpty(self):\n",
        "\t\treturn True if self.top == -1 else False\n",
        "\t\n",
        "\t# Return the value of the top of the stack\n",
        "\tdef peek(self):\n",
        "\t\treturn self.array[-1]\n",
        "\t\n",
        "\t# Pop the element from the stack\n",
        "\tdef pop(self):\n",
        "\t\tif not self.isEmpty():\n",
        "\t\t\tself.top -= 1\n",
        "\t\t\treturn self.array.pop()\n",
        "\t\telse:\n",
        "\t\t\treturn \"$\"\n",
        "\t\n",
        "\t# Push the element to the stack\n",
        "\tdef push(self, op):\n",
        "\t\tself.top += 1\n",
        "\t\tself.array.append(op)\n",
        "\n",
        "\n",
        "\t# The main function that converts given infix expression\n",
        "\t# to postfix expression\n",
        "\tdef evaluatePostfix(self, exp):\n",
        "\t\t\n",
        "\t\t# Iterate over the expression for conversion\n",
        "\t\tfor i in exp:\n",
        "\t\t\t\n",
        "\t\t\t# If the scanned character is an operand\n",
        "\t\t\t# (number here) push it to the stack\n",
        "\t\t\tif i.isdigit():\n",
        "\t\t\t\tself.push(i)\n",
        "\n",
        "\t\t\t# If the scanned character is an operator,\n",
        "\t\t\t# pop two elements from stack and apply it.\n",
        "\t\t\telse:\n",
        "\t\t\t\tval1 = self.pop()\n",
        "\t\t\t\tval2 = self.pop()\n",
        "\t\t\t\tself.push(str(eval(val2 + i + val1)))\n",
        "\n",
        "\t\treturn int(self.pop())\n",
        "\t\t\t\t\n",
        "\n",
        "\t\t\t\n",
        "# Driver program to test above function\n",
        "exp = \"231*+9-\"\n",
        "obj = Evaluate(len(exp))\n",
        "print (\"postfix evaluation: %d\"%(obj.evaluatePostfix(exp)))\n",
        "# This code is contributed by Nikhil Kumar Singh(nickzuck_007)\n"
      ],
      "metadata": {
        "colab": {
          "base_uri": "https://localhost:8080/"
        },
        "id": "6Qj8qfX8G_KS",
        "outputId": "7fd474c8-c6d5-4ef0-c847-7712e04f79dd"
      },
      "execution_count": null,
      "outputs": [
        {
          "output_type": "stream",
          "name": "stdout",
          "text": [
            "postfix evaluation: -4\n"
          ]
        }
      ]
    },
    {
      "cell_type": "markdown",
      "source": [
        "15. Create a queue and perform various operations on it"
      ],
      "metadata": {
        "id": "xdSXFyuYHTjC"
      }
    },
    {
      "cell_type": "code",
      "source": [
        "# Python program to reverse a string using stack\n",
        "\n",
        "# Function to create an empty stack.\n",
        "# It initializes size of stack as 0\n",
        "\n",
        "\n",
        "def createStack():\n",
        "\tstack = []\n",
        "\treturn stack\n",
        "\n",
        "# Function to determine the size of the stack\n",
        "\n",
        "\n",
        "def size(stack):\n",
        "\treturn len(stack)\n",
        "\n",
        "# Stack is empty if the size is 0\n",
        "\n",
        "\n",
        "def isEmpty(stack):\n",
        "\tif size(stack) == 0:\n",
        "\t\treturn true\n",
        "\n",
        "# Function to add an item to stack .\n",
        "# It increases size by 1\n",
        "\n",
        "\n",
        "def push(stack, item):\n",
        "\tstack.append(item)\n",
        "\n",
        "# Function to remove an item from stack.\n",
        "# It decreases size by 1\n",
        "\n",
        "\n",
        "def pop(stack):\n",
        "\tif isEmpty(stack):\n",
        "\t\treturn\n",
        "\treturn stack.pop()\n",
        "\n",
        "# A stack based function to reverse a string\n",
        "\n",
        "\n",
        "def reverse(string):\n",
        "\tn = len(string)\n",
        "\n",
        "\t# Create a empty stack\n",
        "\tstack = createStack()\n",
        "\n",
        "\t# Push all characters of string to stack\n",
        "\tfor i in range(0, n, 1):\n",
        "\t\tpush(stack, string[i])\n",
        "\n",
        "\t# Making the string empty since all\n",
        "\t# characters are saved in stack\n",
        "\tstring = \"\"\n",
        "\n",
        "\t# Pop all characters of string and\n",
        "\t# put them back to string\n",
        "\tfor i in range(0, n, 1):\n",
        "\t\tstring += pop(stack)\n",
        "\n",
        "\treturn string\n",
        "\n",
        "\n",
        "# Driver program to test above functions\n",
        "string = \"GeeksQuiz\"\n",
        "string = reverse(string)\n",
        "print(\"Reversed string is \" + string)\n",
        "\n",
        "# This code is contributed by Sunny Karira\n"
      ],
      "metadata": {
        "colab": {
          "base_uri": "https://localhost:8080/"
        },
        "id": "bL0GLsLoHWQv",
        "outputId": "01d0103a-e3c0-4457-8222-5bef317e03e3"
      },
      "execution_count": null,
      "outputs": [
        {
          "output_type": "stream",
          "name": "stdout",
          "text": [
            "Reversed string is ziuQskeeG\n"
          ]
        }
      ]
    },
    {
      "cell_type": "markdown",
      "source": [
        "14.Evaluation of postfix expression"
      ],
      "metadata": {
        "id": "cVCs-5GCHpza"
      }
    },
    {
      "cell_type": "code",
      "source": [
        "# Python program to evaluate value of a postfix expression\n",
        "\n",
        "# Class to convert the expression\n",
        "class Evaluate:\n",
        "\t\n",
        "\t# Constructor to initialize the class variables\n",
        "\tdef __init__(self, capacity):\n",
        "\t\tself.top = -1\n",
        "\t\tself.capacity = capacity\n",
        "\t\t# This array is used a stack\n",
        "\t\tself.array = []\n",
        "\t\n",
        "\t# check if the stack is empty\n",
        "\tdef isEmpty(self):\n",
        "\t\treturn True if self.top == -1 else False\n",
        "\t\n",
        "\t# Return the value of the top of the stack\n",
        "\tdef peek(self):\n",
        "\t\treturn self.array[-1]\n",
        "\t\n",
        "\t# Pop the element from the stack\n",
        "\tdef pop(self):\n",
        "\t\tif not self.isEmpty():\n",
        "\t\t\tself.top -= 1\n",
        "\t\t\treturn self.array.pop()\n",
        "\t\telse:\n",
        "\t\t\treturn \"$\"\n",
        "\t\n",
        "\t# Push the element to the stack\n",
        "\tdef push(self, op):\n",
        "\t\tself.top += 1\n",
        "\t\tself.array.append(op)\n",
        "\n",
        "\n",
        "\t# The main function that converts given infix expression\n",
        "\t# to postfix expression\n",
        "\tdef evaluatePostfix(self, exp):\n",
        "\t\t\n",
        "\t\t# Iterate over the expression for conversion\n",
        "\t\tfor i in exp:\n",
        "\t\t\t\n",
        "\t\t\t# If the scanned character is an operand\n",
        "\t\t\t# (number here) push it to the stack\n",
        "\t\t\tif i.isdigit():\n",
        "\t\t\t\tself.push(i)\n",
        "\n",
        "\t\t\t# If the scanned character is an operator,\n",
        "\t\t\t# pop two elements from stack and apply it.\n",
        "\t\t\telse:\n",
        "\t\t\t\tval1 = self.pop()\n",
        "\t\t\t\tval2 = self.pop()\n",
        "\t\t\t\tself.push(str(eval(val2 + i + val1)))\n",
        "\n",
        "\t\treturn int(self.pop())\n",
        "\t\t\t\t\n",
        "\n",
        "\t\t\t\n",
        "# Driver program to test above function\n",
        "exp = \"231*+9-\"\n",
        "obj = Evaluate(len(exp))\n",
        "print (\"postfix evaluation: %d\"%(obj.evaluatePostfix(exp)))\n",
        "# This code is contributed by Nikhil Kumar Singh(nickzuck_007)\n",
        "\n"
      ],
      "metadata": {
        "colab": {
          "base_uri": "https://localhost:8080/"
        },
        "id": "HX7XSCohHqfe",
        "outputId": "01920042-40c8-469d-fcea-36937eeae9c0"
      },
      "execution_count": null,
      "outputs": [
        {
          "output_type": "stream",
          "name": "stdout",
          "text": [
            "postfix evaluation: -4\n"
          ]
        }
      ]
    },
    {
      "cell_type": "markdown",
      "source": [
        "13. Perform String reversal using stack"
      ],
      "metadata": {
        "id": "M4fOpmHSH-oh"
      }
    },
    {
      "cell_type": "code",
      "source": [
        "# create class for stack\n",
        "class Stack:\n",
        "\n",
        "\t# create empty list\n",
        "\tdef __init__(self):\n",
        "\t\tself.Elements = []\n",
        "\t\t\n",
        "\t# push() for insert an element\n",
        "\tdef push(self, value):\n",
        "\t\tself.Elements.append(value)\n",
        "\t\n",
        "\t# pop() for remove an element\n",
        "\tdef pop(self):\n",
        "\t\treturn self.Elements.pop()\n",
        "\t\n",
        "\t# empty() check the stack is empty of not\n",
        "\tdef empty(self):\n",
        "\t\treturn self.Elements == []\n",
        "\t\n",
        "\t# show() display stack\n",
        "\tdef show(self):\n",
        "\t\tfor value in reversed(self.Elements):\n",
        "\t\t\tprint(value)\n",
        "\n",
        "# Insert_Bottom() insert value at bottom\n",
        "def BottomInsert(s, value):\n",
        "\n",
        "\t# check the stack is empty or not\n",
        "\tif s.empty():\n",
        "\t\t\n",
        "\t\t# if stack is empty then call\n",
        "\t\t# push() method.\n",
        "\t\ts.push(value)\n",
        "\t\t\n",
        "\t# if stack is not empty then execute\n",
        "\t# else block\n",
        "\telse:\n",
        "\t\tpopped = s.pop()\n",
        "\t\tBottomInsert(s, value)\n",
        "\t\ts.push(popped)\n",
        "\n",
        "# Reverse() reverse the stack\n",
        "def Reverse(s):\n",
        "\tif s.empty():\n",
        "\t\tpass\n",
        "\telse:\n",
        "\t\tpopped = s.pop()\n",
        "\t\tReverse(s)\n",
        "\t\tBottomInsert(s, popped)\n",
        "\n",
        "\n",
        "# create object of stack class\n",
        "stk = Stack()\n",
        "\n",
        "stk.push(1)\n",
        "stk.push(2)\n",
        "stk.push(3)\n",
        "stk.push(4)\n",
        "stk.push(5)\n",
        "\n",
        "print(\"Original Stack\")\n",
        "stk.show()\n",
        "\n",
        "print(\"\\nStack after Reversing\")\n",
        "Reverse(stk)\n",
        "stk.show()\n"
      ],
      "metadata": {
        "colab": {
          "base_uri": "https://localhost:8080/"
        },
        "id": "8CZm2cpyIAlR",
        "outputId": "838faa87-3aa9-413b-d3a1-4c644733a898"
      },
      "execution_count": null,
      "outputs": [
        {
          "output_type": "stream",
          "name": "stdout",
          "text": [
            "Original Stack\n",
            "5\n",
            "4\n",
            "3\n",
            "2\n",
            "1\n",
            "\n",
            "Stack after Reversing\n",
            "1\n",
            "2\n",
            "3\n",
            "4\n",
            "5\n"
          ]
        }
      ]
    },
    {
      "cell_type": "markdown",
      "source": [
        "12. Convert the infix expression into postfix form."
      ],
      "metadata": {
        "id": "DE0M3iBbIIiq"
      }
    },
    {
      "cell_type": "code",
      "source": [
        "\n",
        "import sys\n",
        "from collections import deque\n",
        " \n",
        " \n",
        "# Utility function to return precedence of the given operator.\n",
        "# Note that higher is the precedence, lower is its value\n",
        "def prec(c):\n",
        " \n",
        "    # Multiplication and division\n",
        "    if c == '*' or c == '/':\n",
        "        return 3\n",
        " \n",
        "    # Addition and subtraction\n",
        "    if c == '+' or c == '-':\n",
        "        return 4\n",
        " \n",
        "    # Bitwise AND\n",
        "    if c == '&':\n",
        "        return 8\n",
        " \n",
        "    # Bitwise XOR (exclusive or)\n",
        "    if c == '^':\n",
        "        return 9\n",
        " \n",
        "    # Bitwise OR (inclusive or)\n",
        "    if c == '|':\n",
        "        return 10\n",
        " \n",
        "    # add more operators if needed\n",
        "    return sys.maxsize        # for opening bracket '('\n",
        " \n",
        " \n",
        "# Utility function to check if a given token is an operand\n",
        "def isOperand(c):\n",
        "    return ('a' <= c <= 'z') or ('A' <= c <= 'Z') or ('0' <= c <= '9')\n",
        " \n",
        " \n",
        "# Function to convert an infix expression to a postfix expression.\n",
        "# This function expects a valid infix expression\n",
        "def infixToPostfix(infix):\n",
        " \n",
        "    # base case\n",
        "    if not infix or not len(infix):\n",
        "        return True\n",
        " \n",
        "    # create an empty stack for storing operators\n",
        "    s = deque()\n",
        " \n",
        "    # create a string to store the postfix expression\n",
        "    postfix = ''\n",
        " \n",
        "    # process the infix expression from left to right\n",
        "    for c in infix:\n",
        "        # Case 1. If the current token is an opening bracket '(', push it into\n",
        "        # the stack\n",
        "        if c == '(':\n",
        "            s.append(c)\n",
        " \n",
        "        # Case 2. If the current token is a closing bracket ')'\n",
        "        elif c == ')':\n",
        "            # pop tokens from the stack until the corresponding opening bracket '('\n",
        "            # is removed. Append each operator at the end of the postfix expression\n",
        "            while s[-1] != '(':\n",
        "                postfix += s.pop()\n",
        "            s.pop()\n",
        " \n",
        "        # Case 3. If the current token is an operand, append it at the end of the\n",
        "        # postfix expression\n",
        "        elif isOperand(c):\n",
        "            postfix += c\n",
        " \n",
        "        # Case 4. If the current token is an operator\n",
        "        else:\n",
        "            # remove operators from the stack with higher or equal precedence\n",
        "            # and append them at the end of the postfix expression\n",
        "            while s and prec(c) >= prec(s[-1]):\n",
        "                postfix += s.pop()\n",
        " \n",
        "            # finally, push the current operator on top of the stack\n",
        "            s.append(c)\n",
        " \n",
        "    # append any remaining operators in the stack at the end of the postfix expression\n",
        "    while s:\n",
        "        postfix += s.pop()\n",
        " \n",
        "    # return the postfix expression\n",
        "    return postfix\n",
        " \n",
        " \n",
        "if __name__ == '__main__':\n",
        " \n",
        "    infix = 'A*(B*C+D*E)+F'\n",
        "    postfix = infixToPostfix(infix)\n",
        "    print(postfix)\n",
        " "
      ],
      "metadata": {
        "colab": {
          "base_uri": "https://localhost:8080/"
        },
        "id": "0Jd5bPlOIJJs",
        "outputId": "d124229c-ed34-47aa-981e-5f0119f536c8"
      },
      "execution_count": null,
      "outputs": [
        {
          "output_type": "stream",
          "name": "stdout",
          "text": [
            "ABC*DE*+*F+\n"
          ]
        }
      ]
    },
    {
      "cell_type": "markdown",
      "source": [
        "11. Create a stack and perform various operations on it."
      ],
      "metadata": {
        "id": "39i_imaQIobB"
      }
    },
    {
      "cell_type": "code",
      "source": [
        "# Python program to\n",
        "# demonstrate stack implementation\n",
        "# using list\n",
        "\n",
        "stack = []\n",
        "\n",
        "# append() function to push\n",
        "# element in the stack\n",
        "stack.append('a')\n",
        "stack.append('b')\n",
        "stack.append('c')\n",
        "\n",
        "print('Initial stack')\n",
        "print(stack)\n",
        "\n",
        "# pop() function to pop\n",
        "# element from stack in\n",
        "# LIFO order\n",
        "print('\\nElements popped from stack:')\n",
        "print(stack.pop())\n",
        "print(stack.pop())\n",
        "print(stack.pop())\n",
        "\n",
        "print('\\nStack after elements are popped:')\n",
        "print(stack)\n",
        "\n",
        "# uncommenting print(stack.pop())\n",
        "# will cause an IndexError\n",
        "# as the stack is now empty\n"
      ],
      "metadata": {
        "colab": {
          "base_uri": "https://localhost:8080/"
        },
        "id": "aKE-UWbrIqmD",
        "outputId": "c010ba6d-5c3c-48dc-9147-a2c4baf8886e"
      },
      "execution_count": null,
      "outputs": [
        {
          "output_type": "stream",
          "name": "stdout",
          "text": [
            "Initial stack\n",
            "['a', 'b', 'c']\n",
            "\n",
            "Elements popped from stack:\n",
            "c\n",
            "b\n",
            "a\n",
            "\n",
            "Stack after elements are popped:\n",
            "[]\n"
          ]
        }
      ]
    },
    {
      "cell_type": "markdown",
      "source": [
        "10. Create a Circular singly linked list for adding and deleting a Node."
      ],
      "metadata": {
        "id": "HGpogTzHI39a"
      }
    },
    {
      "cell_type": "code",
      "source": [
        "class Node:\n",
        "    def __init__(self, data):\n",
        "        self.data = data\n",
        "        self.next = None\n",
        "\n",
        "\n",
        "class CircularLinkedList:\n",
        "    def __init__(self):\n",
        "        self.last = None\n",
        "\n",
        "    def addToEmpty(self, data):\n",
        "\n",
        "        if self.last != None:\n",
        "            return self.last\n",
        "\n",
        "        # allocate memory to the new node and add data to the node\n",
        "        newNode = Node(data)\n",
        "\n",
        "        # assign last to newNode\n",
        "        self.last = newNode\n",
        "\n",
        "        # create link to iteself\n",
        "        self.last.next = self.last\n",
        "        return self.last\n",
        "\n",
        "    # add node to the front\n",
        "    def addFront(self, data):\n",
        "\n",
        "        # check if the list is empty\n",
        "        if self.last == None:\n",
        "            return self.addToEmpty(data)\n",
        "\n",
        "        # allocate memory to the new node and add data to the node\n",
        "        newNode = Node(data)\n",
        "\n",
        "        # store the address of the current first node in the newNode\n",
        "        newNode.next = self.last.next\n",
        "\n",
        "        # make newNode as last\n",
        "        self.last.next = newNode\n",
        "\n",
        "        return self.last\n",
        "\n",
        "    # add node to the end\n",
        "    def addEnd(self, data):\n",
        "        # check if the node is empty\n",
        "        if self.last == None:\n",
        "            return self.addToEmpty(data)\n",
        "\n",
        "        # allocate memory to the new node and add data to the node\n",
        "        newNode = Node(data)\n",
        "\n",
        "        # store the address of the last node to next of newNode\n",
        "        newNode.next = self.last.next\n",
        "\n",
        "        # point the current last node to the newNode\n",
        "        self.last.next = newNode\n",
        "\n",
        "        # make newNode as the last node\n",
        "        self.last = newNode\n",
        "\n",
        "        return self.last\n",
        "\n",
        "    # insert node after a specific node\n",
        "    def addAfter(self, data, item):\n",
        "\n",
        "        # check if the list is empty\n",
        "        if self.last == None:\n",
        "            return None\n",
        "\n",
        "        newNode = Node(data)\n",
        "        p = self.last.next\n",
        "        while p:\n",
        "\n",
        "            # if the item is found, place newNode after it\n",
        "            if p.data == item:\n",
        "\n",
        "                # make the next of the current node as the next of newNode\n",
        "                newNode.next = p.next\n",
        "\n",
        "                # put newNode to the next of p\n",
        "                p.next = newNode\n",
        "\n",
        "                if p == self.last:\n",
        "                    self.last = newNode\n",
        "                    return self.last\n",
        "                else:\n",
        "                    return self.last\n",
        "            p = p.next\n",
        "            if p == self.last.next:\n",
        "                print(item, \"The given node is not present in the list\")\n",
        "                break\n",
        "\n",
        "    # delete a node\n",
        "    def deleteNode(self, last, key):\n",
        "\n",
        "        # If linked list is empty\n",
        "        if last == None:\n",
        "            return\n",
        "\n",
        "        # If the list contains only a single node\n",
        "        if (last).data == key and (last).next == last:\n",
        "\n",
        "            last = None\n",
        "\n",
        "        temp = last\n",
        "        d = None\n",
        "\n",
        "        # if last node is to be deleted\n",
        "        if (last).data == key:\n",
        "\n",
        "            # find the node before the last node\n",
        "            while temp.next != last:\n",
        "                temp = temp.next\n",
        "\n",
        "            # point temp node to the next of last i.e. first node\n",
        "            temp.next = (last).next\n",
        "            last = temp.next\n",
        "\n",
        "        # travel to the node to be deleted\n",
        "        while temp.next != last and temp.next.data != key:\n",
        "            temp = temp.next\n",
        "\n",
        "        # if node to be deleted was found\n",
        "        if temp.next.data == key:\n",
        "            d = temp.next\n",
        "            temp.next = d.next\n",
        "\n",
        "        return last\n",
        "\n",
        "    def traverse(self):\n",
        "        if self.last == None:\n",
        "            print(\"The list is empty\")\n",
        "            return\n",
        "\n",
        "        newNode = self.last.next\n",
        "        while newNode:\n",
        "            print(newNode.data, end=\" \")\n",
        "            newNode = newNode.next\n",
        "            if newNode == self.last.next:\n",
        "                break\n",
        "\n",
        "\n",
        "# Driver Code\n",
        "if __name__ == \"__main__\":\n",
        "\n",
        "    cll = CircularLinkedList()\n",
        "\n",
        "    last = cll.addToEmpty(6)\n",
        "    last = cll.addEnd(8)\n",
        "    last = cll.addFront(2)\n",
        "    last = cll.addAfter(10, 2)\n",
        "\n",
        "    cll.traverse()\n",
        "\n",
        "    last = cll.deleteNode(last, 8)\n",
        "    print()\n",
        "    cll.traverse()"
      ],
      "metadata": {
        "colab": {
          "base_uri": "https://localhost:8080/"
        },
        "id": "dZMAMJkuJFvS",
        "outputId": "a79fcd36-2044-4347-eef6-53c992697db2"
      },
      "execution_count": null,
      "outputs": [
        {
          "output_type": "stream",
          "name": "stdout",
          "text": [
            "2 10 6 8 \n",
            "2 10 6 "
          ]
        }
      ]
    },
    {
      "cell_type": "markdown",
      "source": [
        "8. Design a program to create a singly linked list for the following operations\n",
        "• Insert a Node at Beginning, at Ending and at a given Position\n",
        "• Delete a Node at Beginning, at Ending and at a given Position\n",
        "• Search, Count the Number of Nodes and Display"
      ],
      "metadata": {
        "id": "8Cbfomy7JLe7"
      }
    },
    {
      "cell_type": "code",
      "source": [
        "# Linked list operations in Python\n",
        "\n",
        "\n",
        "# Create a node\n",
        "class Node:\n",
        "    def __init__(self, data):\n",
        "        self.data = data\n",
        "        self.next = None\n",
        "\n",
        "\n",
        "class LinkedList:\n",
        "\n",
        "    def __init__(self):\n",
        "        self.head = None\n",
        "\n",
        "    # Insert at the beginning\n",
        "    def insertAtBeginning(self, new_data):\n",
        "        new_node = Node(new_data)\n",
        "\n",
        "        new_node.next = self.head\n",
        "        self.head = new_node\n",
        "\n",
        "    # Insert after a node\n",
        "    def insertAfter(self, prev_node, new_data):\n",
        "\n",
        "        if prev_node is None:\n",
        "            print(\"The given previous node must inLinkedList.\")\n",
        "            return\n",
        "\n",
        "        new_node = Node(new_data)\n",
        "        new_node.next = prev_node.next\n",
        "        prev_node.next = new_node\n",
        "\n",
        "    # Insert at the end\n",
        "    def insertAtEnd(self, new_data):\n",
        "        new_node = Node(new_data)\n",
        "\n",
        "        if self.head is None:\n",
        "            self.head = new_node\n",
        "            return\n",
        "\n",
        "        last = self.head\n",
        "        while (last.next):\n",
        "            last = last.next\n",
        "\n",
        "        last.next = new_node\n",
        "\n",
        "    # Deleting a node\n",
        "    def deleteNode(self, position):\n",
        "\n",
        "        if self.head is None:\n",
        "            return\n",
        "\n",
        "        temp = self.head\n",
        "\n",
        "        if position == 0:\n",
        "            self.head = temp.next\n",
        "            temp = None\n",
        "            return\n",
        "\n",
        "        # Find the key to be deleted\n",
        "        for i in range(position - 1):\n",
        "            temp = temp.next\n",
        "            if temp is None:\n",
        "                break\n",
        "\n",
        "        # If the key is not present\n",
        "        if temp is None:\n",
        "            return\n",
        "\n",
        "        if temp.next is None:\n",
        "            return\n",
        "\n",
        "        next = temp.next.next\n",
        "\n",
        "        temp.next = None\n",
        "\n",
        "        temp.next = next\n",
        "\n",
        "    # Search an element\n",
        "    def search(self, key):\n",
        "\n",
        "        current = self.head\n",
        "\n",
        "        while current is not None:\n",
        "            if current.data == key:\n",
        "                return True\n",
        "\n",
        "            current = current.next\n",
        "\n",
        "        return False\n",
        "\n",
        "    # Sort the linked list\n",
        "    def sortLinkedList(self, head):\n",
        "        current = head\n",
        "        index = Node(None)\n",
        "\n",
        "        if head is None:\n",
        "            return\n",
        "        else:\n",
        "            while current is not None:\n",
        "                # index points to the node next to current\n",
        "                index = current.next\n",
        "\n",
        "                while index is not None:\n",
        "                    if current.data > index.data:\n",
        "                        current.data, index.data = index.data, current.data\n",
        "\n",
        "                    index = index.next\n",
        "                current = current.next\n",
        "\n",
        "    # Print the linked list\n",
        "    def printList(self):\n",
        "        temp = self.head\n",
        "        while (temp):\n",
        "            print(str(temp.data) + \" \", end=\"\")\n",
        "            temp = temp.next\n",
        "\n",
        "\n",
        "if __name__ == '__main__':\n",
        "\n",
        "    llist = LinkedList()\n",
        "    llist.insertAtEnd(1)\n",
        "    llist.insertAtBeginning(2)\n",
        "    llist.insertAtBeginning(3)\n",
        "    llist.insertAtEnd(4)\n",
        "    llist.insertAfter(llist.head.next, 5)\n",
        "\n",
        "    print('linked list:')\n",
        "    llist.printList()\n",
        "\n",
        "    print(\"\\nAfter deleting an element:\")\n",
        "    llist.deleteNode(3)\n",
        "    llist.printList()\n",
        "\n",
        "    print()\n",
        "    item_to_find = 3\n",
        "    if llist.search(item_to_find):\n",
        "        print(str(item_to_find) + \" is found\")\n",
        "    else:\n",
        "        print(str(item_to_find) + \" is not found\")\n",
        "\n",
        "    llist.sortLinkedList(llist.head)\n",
        "    print(\"Sorted List: \")\n",
        "    llist.printList()"
      ],
      "metadata": {
        "colab": {
          "base_uri": "https://localhost:8080/"
        },
        "id": "b7o8mI7kJfsq",
        "outputId": "06403b26-cfb4-4ec7-c235-5ea664c77b1e"
      },
      "execution_count": null,
      "outputs": [
        {
          "output_type": "stream",
          "name": "stdout",
          "text": [
            "linked list:\n",
            "3 2 5 1 4 \n",
            "After deleting an element:\n",
            "3 2 5 4 \n",
            "3 is found\n",
            "Sorted List: \n",
            "2 3 4 5 "
          ]
        }
      ]
    },
    {
      "cell_type": "markdown",
      "source": [
        "9. Design a program to create a doubly linked list for the following operations\n",
        "• Insert a Node at Beginning, at Ending and at a given Position\n",
        "• Delete a Node at Beginning, at Ending and at a given Position\n",
        "• Search, Count the Number of Nodes and Display"
      ],
      "metadata": {
        "id": "OAvnUxOqM5T_"
      }
    },
    {
      "cell_type": "code",
      "source": [
        "import gc\n",
        "\n",
        "# node creation\n",
        "\n",
        "class Node:\n",
        "\n",
        "    def __init__(self, data):\n",
        "        self.data = data\n",
        "        self.next = None\n",
        "        self.prev = None\n",
        "\n",
        "\n",
        "class DoublyLinkedList:\n",
        "\n",
        "    def __init__(self):\n",
        "        self.head = None\n",
        "\n",
        "    # insert node at the front\n",
        "    def insert_front(self, data):\n",
        "\n",
        "        # allocate memory for newNode and assign data to newNode\n",
        "        new_node = Node(data)\n",
        "\n",
        "        # make newNode as a head\n",
        "        new_node.next = self.head\n",
        "\n",
        "        # assign null to prev (prev is already none in the constructore)\n",
        "\n",
        "        # previous of head (now head is the second node) is newNode\n",
        "        if self.head is not None:\n",
        "            self.head.prev = new_node\n",
        "\n",
        "        # head points to newNode\n",
        "        self.head = new_node\n",
        "\n",
        "    # insert a node after a specific node\n",
        "    def insert_after(self, prev_node, data):\n",
        "\n",
        "        # check if previous node is null\n",
        "        if prev_node is None:\n",
        "            print(\"previous node cannot be null\")\n",
        "            return\n",
        "\n",
        "        # allocate memory for newNode and assign data to newNode\n",
        "        new_node = Node(data)\n",
        "\n",
        "        # set next of newNode to next of prev node\n",
        "        new_node.next = prev_node.next\n",
        "\n",
        "        # set next of prev node to newNode\n",
        "        prev_node.next = new_node\n",
        "\n",
        "        # set prev of newNode to the previous node\n",
        "        new_node.prev = prev_node\n",
        "\n",
        "        # set prev of newNode's next to newNode\n",
        "        if new_node.next:\n",
        "            new_node.next.prev = new_node\n",
        "\n",
        "    # insert a newNode at the end of the list\n",
        "    def insert_end(self, data):\n",
        "\n",
        "        # allocate memory for newNode and assign data to newNode\n",
        "        new_node = Node(data)\n",
        "\n",
        "        # assign null to next of newNode (already done in constructor)\n",
        "\n",
        "        # if the linked list is empty, make the newNode as head node\n",
        "        if self.head is None:\n",
        "            self.head = new_node\n",
        "            return\n",
        "\n",
        "        # store the head node temporarily (for later use)\n",
        "        temp = self.head\n",
        "\n",
        "        # if the linked list is not empty, traverse to the end of the linked list\n",
        "        while temp.next:\n",
        "            temp = temp.next\n",
        "\n",
        "        # now, the last node of the linked list is temp\n",
        "\n",
        "        # assign next of the last node (temp) to newNode\n",
        "        temp.next = new_node\n",
        "\n",
        "        # assign prev of newNode to temp\n",
        "        new_node.prev = temp\n",
        "\n",
        "        return\n",
        "\n",
        "    # delete a node from the doubly linked list\n",
        "    def deleteNode(self, dele):\n",
        "\n",
        "        # if head or del is null, deletion is not possible\n",
        "        if self.head is None or dele is None:\n",
        "            return\n",
        "\n",
        "        # if del_node is the head node, point the head pointer to the next of del_node\n",
        "        if self.head == dele:\n",
        "            self.head = dele.next\n",
        "\n",
        "        # if del_node is not at the last node, point the prev of node next to del_node to the previous of del_node\n",
        "        if dele.next is not None:\n",
        "            dele.next.prev = dele.prev\n",
        "\n",
        "        # if del_node is not the first node, point the next of the previous node to the next node of del_node\n",
        "        if dele.prev is not None:\n",
        "            dele.prev.next = dele.next\n",
        "\n",
        "        # free the memory of del_node\n",
        "        gc.collect()\n",
        "\n",
        "    # print the doubly linked list\n",
        "    def display_list(self, node):\n",
        "\n",
        "        while node:\n",
        "            print(node.data, end=\"->\")\n",
        "            last = node\n",
        "            node = node.next\n",
        "\n",
        "\n",
        "# initialize an empty node\n",
        "d_linked_list = DoublyLinkedList()\n",
        "\n",
        "d_linked_list.insert_end(5)\n",
        "d_linked_list.insert_front(1)\n",
        "d_linked_list.insert_front(6)\n",
        "d_linked_list.insert_end(9)\n",
        "\n",
        "# insert 11 after head\n",
        "d_linked_list.insert_after(d_linked_list.head, 11)\n",
        "\n",
        "# insert 15 after the seond node\n",
        "d_linked_list.insert_after(d_linked_list.head.next, 15)\n",
        "\n",
        "d_linked_list.display_list(d_linked_list.head)\n",
        "\n",
        "# delete the last node\n",
        "d_linked_list.deleteNode(d_linked_list.head.next.next.next.next.next)\n",
        "\n",
        "print()\n",
        "d_linked_list.display_list(d_linked_list.head)"
      ],
      "metadata": {
        "id": "EnUHEJL2NNIH",
        "outputId": "c2478041-57dd-47d8-ae9b-7b92219b281b",
        "colab": {
          "base_uri": "https://localhost:8080/"
        }
      },
      "execution_count": null,
      "outputs": [
        {
          "output_type": "stream",
          "name": "stdout",
          "text": [
            "6->11->15->1->5->9->\n",
            "6->11->15->1->5->"
          ]
        }
      ]
    }
  ]
}